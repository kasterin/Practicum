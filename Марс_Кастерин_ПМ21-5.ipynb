{
 "cells": [
  {
   "cell_type": "code",
   "execution_count": 1,
   "id": "89e31367",
   "metadata": {},
   "outputs": [
    {
     "name": "stdout",
     "output_type": "stream",
     "text": [
      "Фотография: https://mars.nasa.gov/msl-raw-images/proj/msl/redops/ods/surface/sol/02905/opgs/edr/ncam/NRB_655376019EDR_S0822188NCAM00595M_.JPG\n",
      "Дата съемки: 2020-10-07\n",
      "Марсоход: Curiosity\n",
      "\n",
      "Фотография: https://mars.nasa.gov/msl-raw-images/proj/msl/redops/ods/surface/sol/02905/opgs/edr/ncam/NRB_655376172EDR_S0822188NCAM00595M_.JPG\n",
      "Дата съемки: 2020-10-07\n",
      "Марсоход: Curiosity\n",
      "\n",
      "Фотография: https://mars.nasa.gov/msl-raw-images/proj/msl/redops/ods/surface/sol/02905/opgs/edr/ncam/NRB_655376350EDR_F0822188NCAM00117M_.JPG\n",
      "Дата съемки: 2020-10-07\n",
      "Марсоход: Curiosity\n",
      "\n"
     ]
    }
   ],
   "source": [
    "import requests \n",
    "import random\n",
    "\n",
    "api_key = \"Egd3uGqdqbcRufk91vqPcFUAJj1R8xKUm2zLMHeq\" \n",
    "url = \"https://api.nasa.gov/mars-photos/api/v1/rovers/curiosity/photos\"\n",
    "params = {\n",
    "    \"earth_date\": \"2020-10-7\",\n",
    "    \"api_key\": api_key\n",
    "}\n",
    "\n",
    "response = requests.get(url, params=params) \n",
    "\n",
    "if response.ok: \n",
    "    photos = response.json()[\"photos\"] \n",
    "    for i in range(3): \n",
    "        photo = random.choice(photos) \n",
    "        print(\"Фотография:\", photo[\"img_src\"]) \n",
    "        print(\"Дата съемки:\", photo[\"earth_date\"]) \n",
    "        print(\"Марсоход:\", photo[\"rover\"][\"name\"]) \n",
    "        print() \n",
    "else: \n",
    "    print(\"Произошла ошибка при выполнении запроса к API NASA.\") \n",
    "    print(\"Код ошибки:\", response.status_code)"
   ]
  },
  {
   "cell_type": "code",
   "execution_count": null,
   "id": "5f209547",
   "metadata": {},
   "outputs": [],
   "source": []
  }
 ],
 "metadata": {
  "kernelspec": {
   "display_name": "Python 3 (ipykernel)",
   "language": "python",
   "name": "python3"
  },
  "language_info": {
   "codemirror_mode": {
    "name": "ipython",
    "version": 3
   },
   "file_extension": ".py",
   "mimetype": "text/x-python",
   "name": "python",
   "nbconvert_exporter": "python",
   "pygments_lexer": "ipython3",
   "version": "3.10.9"
  }
 },
 "nbformat": 4,
 "nbformat_minor": 5
}
